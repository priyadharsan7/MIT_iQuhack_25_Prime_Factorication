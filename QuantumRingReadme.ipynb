{
 "cells": [
  {
   "cell_type": "markdown",
   "metadata": {},
   "source": [
    "Quantum Ring MITiQuank 2025 - Prime factoriation\n",
    "Team name: KMCBoyz\n",
    "Member1:Gokulpriyadharsan M -- 2330157@kmc.du.ac.in\n",
    "Member2:Kaavish tandon -- 2330221@kmc.du.ac.in"
   ]
  },
  {
   "cell_type": "code",
   "execution_count": null,
   "metadata": {
    "vscode": {
     "languageId": "plaintext"
    }
   },
   "outputs": [],
   "source": [
    "Scalablity:\n",
    "The code is scalable as it decides the number of qubits to employ and the step size (time complexity optimizer) according to the input semiprime provided\n",
    "The runtime dynamic circuit making makes it a reliable while using large numbers"
   ]
  },
  {
   "cell_type": "markdown",
   "metadata": {},
   "source": [
    "Code Explanation:\n",
    "Section-A\n",
    "Importing the necessary library"
   ]
  },
  {
   "cell_type": "code",
   "execution_count": null,
   "metadata": {
    "vscode": {
     "languageId": "plaintext"
    }
   },
   "outputs": [],
   "source": [
    "from qiskit import QuantumCircuit, transpile\n",
    "from qiskit_aer import Aer\n",
    "from qiskit.circuit.library import QFT\n",
    "import numpy as np\n",
    "import time\n"
   ]
  },
  {
   "cell_type": "markdown",
   "metadata": {},
   "source": [
    "Section-B\n",
    "\n",
    "SImulator from Qiskit is initiated\n",
    "Due to time constrait and amateruism we were unable to succesfully use the Quantum Ring Simulator for this problem, so as a last resort we resorted to using IBM qiskit Quantum simulator"
   ]
  },
  {
   "cell_type": "code",
   "execution_count": null,
   "metadata": {
    "vscode": {
     "languageId": "plaintext"
    }
   },
   "outputs": [],
   "source": [
    "simulator = Aer.get_backend('qasm_simulator')"
   ]
  },
  {
   "cell_type": "markdown",
   "metadata": {},
   "source": [
    "Section-C\n",
    "The function shors_algorithm takes the Input prime and guess value and number of qubits required to build the circuit dynamically and does a Inverse Quantum Forier Transform to return the frequency of remainer reccurence\n",
    "\n",
    "Some if's are added to deal with errors and exceptions"
   ]
  },
  {
   "cell_type": "code",
   "execution_count": null,
   "metadata": {
    "vscode": {
     "languageId": "plaintext"
    }
   },
   "outputs": [],
   "source": [
    "def shors_algorithm(A, N,n):\n",
    "\n",
    "    m = N.bit_length()\n",
    "    qc = QuantumCircuit(n + m, n)\n",
    "    qc.h(range(n))\n",
    "\n",
    "    for i in range(n):\n",
    "        power = pow(A, 2**i, N)\n",
    "        for j in range(m):\n",
    "            if (power >> j) & 1:\n",
    "                qc.cx(i, n + j)\n",
    "\n",
    "    qc.append(QFT(n).inverse(), range(n))\n",
    "    qc.measure(range(n), range(n))\n",
    "    compiled_circuit = transpile(qc, simulator)\n",
    "    \n",
    "    sim_result = simulator.run(compiled_circuit, shots=1024).result()\n",
    "    counts = sim_result.get_counts()\n",
    "\n",
    "    y = int(max(counts, key=counts.get), 2)\n",
    "    if y==0:\n",
    "        r=0\n",
    "    else :\n",
    "        r = 2**n // y  # Approximate period\n",
    "\n",
    "    return r#,qc\n"
   ]
  },
  {
   "cell_type": "markdown",
   "metadata": {},
   "source": [
    "Section-D\n",
    "\n",
    "The input from user is used to approximate the optimum qubit requirement and step size for the circuit iteration and these values are sent as prarameters to the shors_algorithm method.\n",
    "The time module's time method is used to approximate the execution time.\n",
    "The \"r\" which is related to the inital guess will be used for the final calculation.\n",
    "The various value for guess are ran iteratively till we get the result (Classically this step is Space and time consuming but this is the place where the quantum computers take their lead by do it astonishingly fast)\n",
    "Some if's are added to deal with exceptions and non trivial cases\n",
    "The loop is broken when the desired factors are found and the outputs are given out.\n",
    "The commented parts can be uncommented to look at the circuit if necessary, the 6th line in the next section should be commmented and all other commented parts should be uncommented to make the circuit visible at the output.\n",
    "\n",
    "The example circuit is displayed at the en\n",
    "\n"
   ]
  },
  {
   "cell_type": "code",
   "execution_count": null,
   "metadata": {
    "vscode": {
     "languageId": "plaintext"
    }
   },
   "outputs": [],
   "source": [
    "N = eval (input(\"Enter number\"))\n",
    "Stime=time.time()\n",
    "n=int(np.log2(N)/2)\n",
    "A=2\n",
    "while (True):\n",
    "    r = shors_algorithm(A, N,n)\n",
    "    #r,q = shors_algorithm(A, N,n)\n",
    "    print(\"Using the guess: \",A)\n",
    "    if r % 2 == 0:\n",
    "        factor1 = np.gcd(A**(r//2) - 1, N)\n",
    "        factor2 = np.gcd(A**(r//2) + 1, N)\n",
    "        if factor2!=1 and factor1!=1:\n",
    "            if factor1*factor2==N:\n",
    "                Etime=time.time()\n",
    "                print(\"Time elapsed\",Etime-Stime)\n",
    "                print(factor1,factor2)\n",
    "                break\n",
    "    A+=int(np.log2(N)/2)\n",
    "#print(q.draw())"
   ]
  },
  {
   "cell_type": "markdown",
   "metadata": {},
   "source": []
  }
 ],
 "metadata": {
  "language_info": {
   "name": "python"
  }
 },
 "nbformat": 4,
 "nbformat_minor": 2
}
